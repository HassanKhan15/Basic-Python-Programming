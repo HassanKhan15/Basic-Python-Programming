{
 "cells": [
  {
   "cell_type": "code",
   "execution_count": 4,
   "metadata": {},
   "outputs": [
    {
     "name": "stdout",
     "output_type": "stream",
     "text": [
      "Enter marks of Maths: 42\n",
      "Enter marks of Physics: 35\n",
      "Enter marks of Chemistry: 30\n",
      "Enter marks of English: 50\n",
      "Enter marks of Urdu: 38\n",
      "Grade:F\n"
     ]
    }
   ],
   "source": [
    "sub1 = int(input(\"Enter marks of Maths: \"))\n",
    "sub2 = int(input(\"Enter marks of Physics: \"))\n",
    "sub3 = int(input(\"Enter marks of Chemistry: \"))\n",
    "sub4 = int(input(\"Enter marks of English: \"))\n",
    "sub5 = int(input(\"Enter marks of Urdu: \"))\n",
    "avg = (sub1 + sub2 + sub3 + sub4 + sub5)/ 5\n",
    "\n",
    "if(avg>=90):\n",
    "    print(\"Grade:A++\")\n",
    "\n",
    "elif(avg>=80):\n",
    "    print(\"Grade:A+\")\n",
    "    \n",
    "elif(avg>=70):\n",
    "    print(\"Grade:A\")\n",
    "    \n",
    "elif(avg>=60):\n",
    "    print(\"Grade:B\")\n",
    "    \n",
    "elif(avg>=50):\n",
    "    print(\"Grade:C\")\n",
    "    \n",
    "elif(avg>=40):\n",
    "    print(\"Grade:D\")\n",
    "    \n",
    "else:\n",
    "    print(\"Grade:F\")"
   ]
  },
  {
   "cell_type": "code",
   "execution_count": 1,
   "metadata": {},
   "outputs": [
    {
     "name": "stdout",
     "output_type": "stream",
     "text": [
      "Enetr number: 4\n",
      "This is an even number\n"
     ]
    }
   ],
   "source": [
    "num = int(input(\"Enetr number: \"))\n",
    "mod = num % 2\n",
    "if (mod > 0):\n",
    "    print(\"This is an odd number\" )\n",
    "    \n",
    "else:\n",
    "    print(\"This is an even number\")"
   ]
  },
  {
   "cell_type": "code",
   "execution_count": 4,
   "metadata": {},
   "outputs": [
    {
     "name": "stdout",
     "output_type": "stream",
     "text": [
      "The length of the list is : 6\n"
     ]
    }
   ],
   "source": [
    "n = len([1,2,3,4,5,6])\n",
    "print(\"The length of the list is :\", n)"
   ]
  },
  {
   "cell_type": "code",
   "execution_count": 5,
   "metadata": {},
   "outputs": [
    {
     "name": "stdout",
     "output_type": "stream",
     "text": [
      "The length of the list is : 4\n"
     ]
    }
   ],
   "source": [
    "a = []\n",
    "a.append(\"My\")\n",
    "a.append(\"name\")\n",
    "a.append(\"is\")\n",
    "a.append(\"khan\")\n",
    "print(\"The length of the list is :\", len(a))"
   ]
  },
  {
   "cell_type": "code",
   "execution_count": 6,
   "metadata": {},
   "outputs": [
    {
     "name": "stdout",
     "output_type": "stream",
     "text": [
      "The sum of all elements is the given lists is : 423\n"
     ]
    }
   ],
   "source": [
    "list1 = [10,15,40,75,25]\n",
    "list2 = [20,78,35,80,45]\n",
    "total = sum(list1 + list2)\n",
    "print(\"The sum of all elements is the given lists is :\", total )"
   ]
  },
  {
   "cell_type": "code",
   "execution_count": 8,
   "metadata": {},
   "outputs": [
    {
     "name": "stdout",
     "output_type": "stream",
     "text": [
      "The largest element is : 95\n",
      "The smallest element is : 15\n"
     ]
    }
   ],
   "source": [
    "list1 = [25,15,33,65,80,95]\n",
    "print(\"The largest element is :\", max(list1))\n",
    "print(\"The smallest element is :\", min(list1))"
   ]
  },
  {
   "cell_type": "code",
   "execution_count": 21,
   "metadata": {
    "scrolled": true
   },
   "outputs": [
    {
     "name": "stdout",
     "output_type": "stream",
     "text": [
      "[1]\n",
      "[1, 1]\n",
      "[1, 1, 2]\n",
      "[1, 1, 2, 3]\n"
     ]
    }
   ],
   "source": [
    "a = [1, 1, 2, 3, 5, 8, 13, 21, 34, 55, 89]\n",
    "\n",
    "new_list = []\n",
    "\n",
    "for item in a:\n",
    "    \n",
    "    if item < 5:\n",
    "        \n",
    "        new_list.append(item)\n",
    "        print(new_list)"
   ]
  },
  {
   "cell_type": "code",
   "execution_count": null,
   "metadata": {},
   "outputs": [],
   "source": []
  },
  {
   "cell_type": "code",
   "execution_count": null,
   "metadata": {},
   "outputs": [],
   "source": []
  }
 ],
 "metadata": {
  "kernelspec": {
   "display_name": "Python 3",
   "language": "python",
   "name": "python3"
  },
  "language_info": {
   "codemirror_mode": {
    "name": "ipython",
    "version": 3
   },
   "file_extension": ".py",
   "mimetype": "text/x-python",
   "name": "python",
   "nbconvert_exporter": "python",
   "pygments_lexer": "ipython3",
   "version": "3.7.4"
  }
 },
 "nbformat": 4,
 "nbformat_minor": 2
}
